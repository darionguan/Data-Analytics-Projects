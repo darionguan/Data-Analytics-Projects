{
 "cells": [
  {
   "cell_type": "code",
   "execution_count": 1,
   "id": "3ea99959",
   "metadata": {},
   "outputs": [],
   "source": [
    "# Import libraries\n",
    "import pandas as pd\n",
    "import numpy as np\n",
    "import os\n",
    "import pandasql as psql"
   ]
  },
  {
   "cell_type": "code",
   "execution_count": 2,
   "id": "2c0d42a5",
   "metadata": {},
   "outputs": [
    {
     "data": {
      "text/html": [
       "<div>\n",
       "<style scoped>\n",
       "    .dataframe tbody tr th:only-of-type {\n",
       "        vertical-align: middle;\n",
       "    }\n",
       "\n",
       "    .dataframe tbody tr th {\n",
       "        vertical-align: top;\n",
       "    }\n",
       "\n",
       "    .dataframe thead th {\n",
       "        text-align: right;\n",
       "    }\n",
       "</style>\n",
       "<table border=\"1\" class=\"dataframe\">\n",
       "  <thead>\n",
       "    <tr style=\"text-align: right;\">\n",
       "      <th></th>\n",
       "      <th>CAND_ID</th>\n",
       "      <th>CAND_NAME</th>\n",
       "      <th>CAND_PTY_AFFILIATION</th>\n",
       "      <th>CAND_ELECTION_YR</th>\n",
       "      <th>CAND_OFFICE_ST</th>\n",
       "      <th>CAND_OFFICE</th>\n",
       "      <th>CAND_OFFICE_DISTRICT</th>\n",
       "      <th>CAND_ICI</th>\n",
       "      <th>CAND_STATUS</th>\n",
       "      <th>CAND_PCC</th>\n",
       "      <th>CAND_ST1</th>\n",
       "      <th>CAND_ST2</th>\n",
       "      <th>CAND_CITY</th>\n",
       "      <th>CAND_ST</th>\n",
       "      <th>CAND_ZIP</th>\n",
       "    </tr>\n",
       "  </thead>\n",
       "  <tbody>\n",
       "    <tr>\n",
       "      <th>0</th>\n",
       "      <td>P80000722</td>\n",
       "      <td>BIDEN, JOSEPH R JR</td>\n",
       "      <td>DEM</td>\n",
       "      <td>2020</td>\n",
       "      <td>US</td>\n",
       "      <td>P</td>\n",
       "      <td>0.0</td>\n",
       "      <td>C</td>\n",
       "      <td>C</td>\n",
       "      <td>C00703975</td>\n",
       "      <td>PO BOX 58178</td>\n",
       "      <td>None</td>\n",
       "      <td>PHILADELPHIA</td>\n",
       "      <td>PA</td>\n",
       "      <td>19102.0</td>\n",
       "    </tr>\n",
       "    <tr>\n",
       "      <th>1</th>\n",
       "      <td>P80001571</td>\n",
       "      <td>TRUMP, DONALD J.</td>\n",
       "      <td>REP</td>\n",
       "      <td>2020</td>\n",
       "      <td>US</td>\n",
       "      <td>P</td>\n",
       "      <td>0.0</td>\n",
       "      <td>I</td>\n",
       "      <td>C</td>\n",
       "      <td>C00580100</td>\n",
       "      <td>725 FIFTH AVENUE</td>\n",
       "      <td>None</td>\n",
       "      <td>NEW YORK</td>\n",
       "      <td>NY</td>\n",
       "      <td>10022.0</td>\n",
       "    </tr>\n",
       "  </tbody>\n",
       "</table>\n",
       "</div>"
      ],
      "text/plain": [
       "     CAND_ID           CAND_NAME CAND_PTY_AFFILIATION  CAND_ELECTION_YR  \\\n",
       "0  P80000722  BIDEN, JOSEPH R JR                  DEM              2020   \n",
       "1  P80001571    TRUMP, DONALD J.                  REP              2020   \n",
       "\n",
       "  CAND_OFFICE_ST CAND_OFFICE  CAND_OFFICE_DISTRICT CAND_ICI CAND_STATUS  \\\n",
       "0             US           P                   0.0        C           C   \n",
       "1             US           P                   0.0        I           C   \n",
       "\n",
       "    CAND_PCC          CAND_ST1 CAND_ST2     CAND_CITY CAND_ST  CAND_ZIP  \n",
       "0  C00703975      PO BOX 58178     None  PHILADELPHIA      PA   19102.0  \n",
       "1  C00580100  725 FIFTH AVENUE     None      NEW YORK      NY   10022.0  "
      ]
     },
     "execution_count": 2,
     "metadata": {},
     "output_type": "execute_result"
    }
   ],
   "source": [
    "# Read candidate master file and name columns\n",
    "cn_df = pd.read_csv('cn.txt', header=None, sep='|')\n",
    "cn_df.rename(columns = {cn_df.columns[0]: 'CAND_ID', \n",
    "                     cn_df.columns[1]: 'CAND_NAME', \n",
    "                     cn_df.columns[2]: 'CAND_PTY_AFFILIATION', \n",
    "                     cn_df.columns[3]: 'CAND_ELECTION_YR', \n",
    "                     cn_df.columns[4]: 'CAND_OFFICE_ST', \n",
    "                     cn_df.columns[5]: 'CAND_OFFICE', \n",
    "                     cn_df.columns[6]: 'CAND_OFFICE_DISTRICT', \n",
    "                     cn_df.columns[7]: 'CAND_ICI', \n",
    "                     cn_df.columns[8]: 'CAND_STATUS', \n",
    "                     cn_df.columns[9]: 'CAND_PCC', \n",
    "                     cn_df.columns[10]: 'CAND_ST1', \n",
    "                     cn_df.columns[11]: 'CAND_ST2', \n",
    "                     cn_df.columns[12]: 'CAND_CITY', \n",
    "                     cn_df.columns[13]: 'CAND_ST', \n",
    "                     cn_df.columns[14]: 'CAND_ZIP'},inplace=True)\n",
    "\n",
    "# Subset Trump and Biden\n",
    "q = \"\"\"\n",
    "SELECT *\n",
    "FROM cn_df as d\n",
    "WHERE CAND_NAME LIKE \"Trump%\" OR CAND_NAME LIKE \"Biden%\"\n",
    "\"\"\"\n",
    "cn_df = psql.sqldf(q)\n",
    "cn_df"
   ]
  },
  {
   "cell_type": "code",
   "execution_count": 3,
   "id": "230fe4f0",
   "metadata": {
    "scrolled": true
   },
   "outputs": [
    {
     "data": {
      "text/html": [
       "<div>\n",
       "<style scoped>\n",
       "    .dataframe tbody tr th:only-of-type {\n",
       "        vertical-align: middle;\n",
       "    }\n",
       "\n",
       "    .dataframe tbody tr th {\n",
       "        vertical-align: top;\n",
       "    }\n",
       "\n",
       "    .dataframe thead th {\n",
       "        text-align: right;\n",
       "    }\n",
       "</style>\n",
       "<table border=\"1\" class=\"dataframe\">\n",
       "  <thead>\n",
       "    <tr style=\"text-align: right;\">\n",
       "      <th></th>\n",
       "      <th>CMTE_ID</th>\n",
       "      <th>CMTE_NM</th>\n",
       "      <th>TRES_NM</th>\n",
       "      <th>CMTE_ST1</th>\n",
       "      <th>CMTE_ST2</th>\n",
       "      <th>CMTE_CITY</th>\n",
       "      <th>CMTE_ST</th>\n",
       "      <th>CMTE_ZIP</th>\n",
       "      <th>CMTE_DSGN</th>\n",
       "      <th>CMTE_TP</th>\n",
       "      <th>CMTE_PTY_AFFILIATION</th>\n",
       "      <th>CMTE_FILING_FREQ</th>\n",
       "      <th>ORG_TP</th>\n",
       "      <th>CONNECTED_ORG_NM</th>\n",
       "      <th>CAND_ID</th>\n",
       "    </tr>\n",
       "  </thead>\n",
       "  <tbody>\n",
       "    <tr>\n",
       "      <th>0</th>\n",
       "      <td>C00000059</td>\n",
       "      <td>HALLMARK CARDS PAC</td>\n",
       "      <td>SARAH MOE</td>\n",
       "      <td>2501 MCGEE</td>\n",
       "      <td>MD #500</td>\n",
       "      <td>KANSAS CITY</td>\n",
       "      <td>MO</td>\n",
       "      <td>64108</td>\n",
       "      <td>U</td>\n",
       "      <td>Q</td>\n",
       "      <td>UNK</td>\n",
       "      <td>M</td>\n",
       "      <td>C</td>\n",
       "      <td>NaN</td>\n",
       "      <td>NaN</td>\n",
       "    </tr>\n",
       "    <tr>\n",
       "      <th>1</th>\n",
       "      <td>C00000422</td>\n",
       "      <td>AMERICAN MEDICAL ASSOCIATION POLITICAL ACTION ...</td>\n",
       "      <td>WALKER, KEVIN MR.</td>\n",
       "      <td>25 MASSACHUSETTS AVE, NW</td>\n",
       "      <td>SUITE 600</td>\n",
       "      <td>WASHINGTON</td>\n",
       "      <td>DC</td>\n",
       "      <td>200017400</td>\n",
       "      <td>B</td>\n",
       "      <td>Q</td>\n",
       "      <td>NaN</td>\n",
       "      <td>M</td>\n",
       "      <td>NaN</td>\n",
       "      <td>DELAWARE MEDICAL PAC</td>\n",
       "      <td>NaN</td>\n",
       "    </tr>\n",
       "    <tr>\n",
       "      <th>2</th>\n",
       "      <td>C00000489</td>\n",
       "      <td>D R I V E POLITICAL FUND CHAPTER 886</td>\n",
       "      <td>JERRY SIMS JR</td>\n",
       "      <td>3528 W RENO</td>\n",
       "      <td>NaN</td>\n",
       "      <td>OKLAHOMA CITY</td>\n",
       "      <td>OK</td>\n",
       "      <td>73107</td>\n",
       "      <td>U</td>\n",
       "      <td>N</td>\n",
       "      <td>NaN</td>\n",
       "      <td>Q</td>\n",
       "      <td>L</td>\n",
       "      <td>NaN</td>\n",
       "      <td>NaN</td>\n",
       "    </tr>\n",
       "    <tr>\n",
       "      <th>3</th>\n",
       "      <td>C00000547</td>\n",
       "      <td>KANSAS MEDICAL SOCIETY POLITICAL ACTION COMMITTEE</td>\n",
       "      <td>JERRY SLAUGHTER</td>\n",
       "      <td>623 SW 10TH AVE</td>\n",
       "      <td>NaN</td>\n",
       "      <td>TOPEKA</td>\n",
       "      <td>KS</td>\n",
       "      <td>666121627</td>\n",
       "      <td>U</td>\n",
       "      <td>Q</td>\n",
       "      <td>UNK</td>\n",
       "      <td>Q</td>\n",
       "      <td>M</td>\n",
       "      <td>KANSAS MEDICAL SOCIETY</td>\n",
       "      <td>NaN</td>\n",
       "    </tr>\n",
       "    <tr>\n",
       "      <th>4</th>\n",
       "      <td>C00000638</td>\n",
       "      <td>INDIANA STATE MEDICAL ASSOCIATION POLITICAL AC...</td>\n",
       "      <td>ACHENBACH, GRANT MR.</td>\n",
       "      <td>322 CANAL WALK, CANAL LEVEL</td>\n",
       "      <td>NaN</td>\n",
       "      <td>INDIANAPOLIS</td>\n",
       "      <td>IN</td>\n",
       "      <td>46202</td>\n",
       "      <td>U</td>\n",
       "      <td>Q</td>\n",
       "      <td>NaN</td>\n",
       "      <td>T</td>\n",
       "      <td>M</td>\n",
       "      <td>NaN</td>\n",
       "      <td>NaN</td>\n",
       "    </tr>\n",
       "  </tbody>\n",
       "</table>\n",
       "</div>"
      ],
      "text/plain": [
       "     CMTE_ID                                            CMTE_NM  \\\n",
       "0  C00000059                                 HALLMARK CARDS PAC   \n",
       "1  C00000422  AMERICAN MEDICAL ASSOCIATION POLITICAL ACTION ...   \n",
       "2  C00000489               D R I V E POLITICAL FUND CHAPTER 886   \n",
       "3  C00000547  KANSAS MEDICAL SOCIETY POLITICAL ACTION COMMITTEE   \n",
       "4  C00000638  INDIANA STATE MEDICAL ASSOCIATION POLITICAL AC...   \n",
       "\n",
       "                TRES_NM                     CMTE_ST1   CMTE_ST2  \\\n",
       "0             SARAH MOE                   2501 MCGEE    MD #500   \n",
       "1     WALKER, KEVIN MR.     25 MASSACHUSETTS AVE, NW  SUITE 600   \n",
       "2         JERRY SIMS JR                  3528 W RENO        NaN   \n",
       "3       JERRY SLAUGHTER              623 SW 10TH AVE        NaN   \n",
       "4  ACHENBACH, GRANT MR.  322 CANAL WALK, CANAL LEVEL        NaN   \n",
       "\n",
       "       CMTE_CITY CMTE_ST   CMTE_ZIP CMTE_DSGN CMTE_TP CMTE_PTY_AFFILIATION  \\\n",
       "0    KANSAS CITY      MO      64108         U       Q                  UNK   \n",
       "1     WASHINGTON      DC  200017400         B       Q                  NaN   \n",
       "2  OKLAHOMA CITY      OK      73107         U       N                  NaN   \n",
       "3         TOPEKA      KS  666121627         U       Q                  UNK   \n",
       "4   INDIANAPOLIS      IN      46202         U       Q                  NaN   \n",
       "\n",
       "  CMTE_FILING_FREQ ORG_TP        CONNECTED_ORG_NM CAND_ID  \n",
       "0                M      C                     NaN     NaN  \n",
       "1                M    NaN    DELAWARE MEDICAL PAC     NaN  \n",
       "2                Q      L                     NaN     NaN  \n",
       "3                Q      M  KANSAS MEDICAL SOCIETY     NaN  \n",
       "4                T      M                     NaN     NaN  "
      ]
     },
     "execution_count": 3,
     "metadata": {},
     "output_type": "execute_result"
    }
   ],
   "source": [
    "# Read committee master and name columns\n",
    "cm_df = pd.read_csv('cm.txt', header=None, sep='|')\n",
    "cm_df.rename(columns = {cm_df.columns[0]: 'CMTE_ID', \n",
    "                     cm_df.columns[1]: 'CMTE_NM', \n",
    "                     cm_df.columns[2]: 'TRES_NM', \n",
    "                     cm_df.columns[3]: 'CMTE_ST1', \n",
    "                     cm_df.columns[4]: 'CMTE_ST2', \n",
    "                     cm_df.columns[5]: 'CMTE_CITY', \n",
    "                     cm_df.columns[6]: 'CMTE_ST', \n",
    "                     cm_df.columns[7]: 'CMTE_ZIP', \n",
    "                     cm_df.columns[8]: 'CMTE_DSGN', \n",
    "                     cm_df.columns[9]: 'CMTE_TP', \n",
    "                     cm_df.columns[10]: 'CMTE_PTY_AFFILIATION', \n",
    "                     cm_df.columns[11]: 'CMTE_FILING_FREQ', \n",
    "                     cm_df.columns[12]: 'ORG_TP', \n",
    "                     cm_df.columns[13]: 'CONNECTED_ORG_NM', \n",
    "                     cm_df.columns[14]: 'CAND_ID'},inplace=True)\n",
    "cm_df.head()"
   ]
  },
  {
   "cell_type": "code",
   "execution_count": 4,
   "id": "6d6f5f5a",
   "metadata": {},
   "outputs": [],
   "source": [
    "# Subset Biden-supporting committees, drop committees against Biden, drop duplicates, reset index\n",
    "q = \"\"\"\n",
    "SELECT *\n",
    "FROM cm_df as d\n",
    "WHERE CMTE_NM LIKE \"%biden%\" OR CONNECTED_ORG_NM LIKE \"%biden%\" OR CAND_ID = \"P80000722\" \n",
    "\"\"\"\n",
    "biden_df = psql.sqldf(q)\n",
    "biden_df = biden_df.drop([17])\n",
    "biden_df = biden_df.drop_duplicates()\n",
    "biden_df = biden_df.reset_index(drop=True)"
   ]
  },
  {
   "cell_type": "code",
   "execution_count": 5,
   "id": "2a6a7344",
   "metadata": {},
   "outputs": [
    {
     "name": "stdout",
     "output_type": "stream",
     "text": [
      "['C00011197' 'C00703975' 'C00704254' 'C00744946' 'C00745224' 'C00746206'\n",
      " 'C00746651' 'C00750208' 'C00753186' 'C00754812' 'C00754861' 'C00755264'\n",
      " 'C00755298' 'C00755660' 'C00755892' 'C00762104' 'C00762229' 'C90019423']\n"
     ]
    }
   ],
   "source": [
    "# Create array of committee ID's supporting Biden\n",
    "biden_arr = biden_df['CMTE_ID'].to_numpy()\n",
    "print(biden_arr)"
   ]
  },
  {
   "cell_type": "code",
   "execution_count": 6,
   "id": "8c4bc8ed",
   "metadata": {},
   "outputs": [],
   "source": [
    "# Subset Trump-supporting committees, drop committees against Trump, drop duplicates, reset index\n",
    "q = \"\"\"\n",
    "SELECT *\n",
    "FROM cm_df as d\n",
    "WHERE CMTE_NM LIKE \"%trump%\" OR CONNECTED_ORG_NM LIKE \"%trump%\" OR CAND_ID = \"P80001571\"\n",
    "\"\"\"\n",
    "trump_df = psql.sqldf(q)\n",
    "trump_df = trump_df.drop([17, 18, 19, 21, 23, 27, 37, 38])\n",
    "trump_df = trump_df.drop_duplicates()\n",
    "trump_df = trump_df.reset_index(drop=True)"
   ]
  },
  {
   "cell_type": "code",
   "execution_count": 7,
   "id": "5c8f7443",
   "metadata": {},
   "outputs": [
    {
     "name": "stdout",
     "output_type": "stream",
     "text": [
      "['C00003418' 'C00005785' 'C00035618' 'C00040220' 'C00044776' 'C00078196'\n",
      " 'C00120055' 'C00150672' 'C00153031' 'C00170175' 'C00191288' 'C00580100'\n",
      " 'C00583716' 'C00618371' 'C00618389' 'C00621672' 'C00628396' 'C00684563'\n",
      " 'C00696864' 'C00724971' 'C00732230' 'C00733006' 'C00735118' 'C00735258'\n",
      " 'C00738138' 'C00738310' 'C00738633' 'C00739730' 'C00748616' 'C00749614'\n",
      " 'C00749937' 'C00752444' 'C00754101' 'C00755686' 'C00760884' 'C00762591'\n",
      " 'C00763284' 'C00763482' 'C00764787' 'C00785873' 'C90015728' 'C90016668']\n"
     ]
    }
   ],
   "source": [
    "trump_arr = trump_df['CMTE_ID'].to_numpy()\n",
    "print(trump_arr)"
   ]
  },
  {
   "cell_type": "code",
   "execution_count": 8,
   "id": "75405bce",
   "metadata": {},
   "outputs": [
    {
     "name": "stdout",
     "output_type": "stream",
     "text": [
      "/Users/darionguan/Desktop/SAS Project 1/by_date/itcont_2020_20201028_20201030.txt\n"
     ]
    },
    {
     "name": "stderr",
     "output_type": "stream",
     "text": [
      "/var/folders/k1/z3v9vvcx2zj8knzj63hcxqh40000gn/T/ipykernel_92657/3174677684.py:33: DtypeWarning: Columns (10,18) have mixed types. Specify dtype option on import or set low_memory=False.\n",
      "  itcont_df = pd.read_csv(my_dir + filename, header=None, sep='|', on_bad_lines='warn')\n"
     ]
    },
    {
     "name": "stdout",
     "output_type": "stream",
     "text": [
      "/Users/darionguan/Desktop/SAS Project 1/by_date/itcont_2020_20200630_20200711.txt\n"
     ]
    },
    {
     "name": "stderr",
     "output_type": "stream",
     "text": [
      "/var/folders/k1/z3v9vvcx2zj8knzj63hcxqh40000gn/T/ipykernel_92657/3174677684.py:33: DtypeWarning: Columns (10,18) have mixed types. Specify dtype option on import or set low_memory=False.\n",
      "  itcont_df = pd.read_csv(my_dir + filename, header=None, sep='|', on_bad_lines='warn')\n"
     ]
    },
    {
     "name": "stdout",
     "output_type": "stream",
     "text": [
      "/Users/darionguan/Desktop/SAS Project 1/by_date/itcont_2020_20200219_20200304.txt\n"
     ]
    },
    {
     "name": "stderr",
     "output_type": "stream",
     "text": [
      "/var/folders/k1/z3v9vvcx2zj8knzj63hcxqh40000gn/T/ipykernel_92657/3174677684.py:33: DtypeWarning: Columns (10,18) have mixed types. Specify dtype option on import or set low_memory=False.\n",
      "  itcont_df = pd.read_csv(my_dir + filename, header=None, sep='|', on_bad_lines='warn')\n"
     ]
    },
    {
     "name": "stdout",
     "output_type": "stream",
     "text": [
      "/Users/darionguan/Desktop/SAS Project 1/by_date/itcont_2020_20190630_20190809.txt\n"
     ]
    },
    {
     "name": "stderr",
     "output_type": "stream",
     "text": [
      "b'Skipping line 1381739: expected 21 fields, saw 22\\n'\n",
      "/var/folders/k1/z3v9vvcx2zj8knzj63hcxqh40000gn/T/ipykernel_92657/3174677684.py:33: DtypeWarning: Columns (10,18) have mixed types. Specify dtype option on import or set low_memory=False.\n",
      "  itcont_df = pd.read_csv(my_dir + filename, header=None, sep='|', on_bad_lines='warn')\n"
     ]
    },
    {
     "name": "stdout",
     "output_type": "stream",
     "text": [
      "/Users/darionguan/Desktop/SAS Project 1/by_date/itcont_2020_20201222_20201231.txt\n"
     ]
    },
    {
     "name": "stderr",
     "output_type": "stream",
     "text": [
      "/var/folders/k1/z3v9vvcx2zj8knzj63hcxqh40000gn/T/ipykernel_92657/3174677684.py:33: DtypeWarning: Columns (10,18) have mixed types. Specify dtype option on import or set low_memory=False.\n",
      "  itcont_df = pd.read_csv(my_dir + filename, header=None, sep='|', on_bad_lines='warn')\n"
     ]
    },
    {
     "name": "stdout",
     "output_type": "stream",
     "text": [
      "/Users/darionguan/Desktop/SAS Project 1/by_date/itcont_2020_20200923_20200927.txt\n"
     ]
    },
    {
     "name": "stderr",
     "output_type": "stream",
     "text": [
      "/var/folders/k1/z3v9vvcx2zj8knzj63hcxqh40000gn/T/ipykernel_92657/3174677684.py:33: DtypeWarning: Columns (10,16,18) have mixed types. Specify dtype option on import or set low_memory=False.\n",
      "  itcont_df = pd.read_csv(my_dir + filename, header=None, sep='|', on_bad_lines='warn')\n"
     ]
    },
    {
     "name": "stdout",
     "output_type": "stream",
     "text": [
      "/Users/darionguan/Desktop/SAS Project 1/by_date/itcont_2020_20200819_20200825.txt\n"
     ]
    },
    {
     "name": "stderr",
     "output_type": "stream",
     "text": [
      "b'Skipping line 51725: expected 21 fields, saw 22\\n'\n",
      "/var/folders/k1/z3v9vvcx2zj8knzj63hcxqh40000gn/T/ipykernel_92657/3174677684.py:33: DtypeWarning: Columns (10,18) have mixed types. Specify dtype option on import or set low_memory=False.\n",
      "  itcont_df = pd.read_csv(my_dir + filename, header=None, sep='|', on_bad_lines='warn')\n"
     ]
    },
    {
     "name": "stdout",
     "output_type": "stream",
     "text": [
      "/Users/darionguan/Desktop/SAS Project 1/by_date/itcont_2020_20201019_20201021.txt\n"
     ]
    },
    {
     "name": "stderr",
     "output_type": "stream",
     "text": [
      "b'Skipping line 844253: expected 21 fields, saw 26\\n'\n",
      "/var/folders/k1/z3v9vvcx2zj8knzj63hcxqh40000gn/T/ipykernel_92657/3174677684.py:33: DtypeWarning: Columns (18) have mixed types. Specify dtype option on import or set low_memory=False.\n",
      "  itcont_df = pd.read_csv(my_dir + filename, header=None, sep='|', on_bad_lines='warn')\n"
     ]
    },
    {
     "name": "stdout",
     "output_type": "stream",
     "text": [
      "/Users/darionguan/Desktop/SAS Project 1/by_date/itcont_2020_20201102_20201103.txt\n"
     ]
    },
    {
     "name": "stderr",
     "output_type": "stream",
     "text": [
      "/var/folders/k1/z3v9vvcx2zj8knzj63hcxqh40000gn/T/ipykernel_92657/3174677684.py:33: DtypeWarning: Columns (10,18) have mixed types. Specify dtype option on import or set low_memory=False.\n",
      "  itcont_df = pd.read_csv(my_dir + filename, header=None, sep='|', on_bad_lines='warn')\n"
     ]
    },
    {
     "name": "stdout",
     "output_type": "stream",
     "text": [
      "/Users/darionguan/Desktop/SAS Project 1/by_date/itcont_2020_20200618_20200629.txt\n"
     ]
    },
    {
     "name": "stderr",
     "output_type": "stream",
     "text": [
      "/var/folders/k1/z3v9vvcx2zj8knzj63hcxqh40000gn/T/ipykernel_92657/3174677684.py:33: DtypeWarning: Columns (10,18) have mixed types. Specify dtype option on import or set low_memory=False.\n",
      "  itcont_df = pd.read_csv(my_dir + filename, header=None, sep='|', on_bad_lines='warn')\n"
     ]
    },
    {
     "name": "stdout",
     "output_type": "stream",
     "text": [
      "/Users/darionguan/Desktop/SAS Project 1/by_date/itcont_2020_20201104_20201107.txt\n"
     ]
    },
    {
     "name": "stderr",
     "output_type": "stream",
     "text": [
      "/var/folders/k1/z3v9vvcx2zj8knzj63hcxqh40000gn/T/ipykernel_92657/3174677684.py:33: DtypeWarning: Columns (10,18) have mixed types. Specify dtype option on import or set low_memory=False.\n",
      "  itcont_df = pd.read_csv(my_dir + filename, header=None, sep='|', on_bad_lines='warn')\n"
     ]
    },
    {
     "name": "stdout",
     "output_type": "stream",
     "text": [
      "/Users/darionguan/Desktop/SAS Project 1/by_date/itcont_2020_20200913_20200918.txt\n"
     ]
    },
    {
     "name": "stderr",
     "output_type": "stream",
     "text": [
      "/var/folders/k1/z3v9vvcx2zj8knzj63hcxqh40000gn/T/ipykernel_92657/3174677684.py:33: DtypeWarning: Columns (10,18) have mixed types. Specify dtype option on import or set low_memory=False.\n",
      "  itcont_df = pd.read_csv(my_dir + filename, header=None, sep='|', on_bad_lines='warn')\n"
     ]
    },
    {
     "name": "stdout",
     "output_type": "stream",
     "text": [
      "/Users/darionguan/Desktop/SAS Project 1/by_date/itcont_2020_20201214_20201221.txt\n"
     ]
    },
    {
     "name": "stderr",
     "output_type": "stream",
     "text": [
      "/var/folders/k1/z3v9vvcx2zj8knzj63hcxqh40000gn/T/ipykernel_92657/3174677684.py:33: DtypeWarning: Columns (3,10,18) have mixed types. Specify dtype option on import or set low_memory=False.\n",
      "  itcont_df = pd.read_csv(my_dir + filename, header=None, sep='|', on_bad_lines='warn')\n"
     ]
    },
    {
     "name": "stdout",
     "output_type": "stream",
     "text": [
      "/Users/darionguan/Desktop/SAS Project 1/by_date/itcont_2020_20191013_20191108.txt\n"
     ]
    },
    {
     "name": "stderr",
     "output_type": "stream",
     "text": [
      "/var/folders/k1/z3v9vvcx2zj8knzj63hcxqh40000gn/T/ipykernel_92657/3174677684.py:33: DtypeWarning: Columns (18) have mixed types. Specify dtype option on import or set low_memory=False.\n",
      "  itcont_df = pd.read_csv(my_dir + filename, header=None, sep='|', on_bad_lines='warn')\n"
     ]
    },
    {
     "name": "stdout",
     "output_type": "stream",
     "text": [
      "/Users/darionguan/Desktop/SAS Project 1/by_date/itcont_2020_20201022_20201023.txt\n"
     ]
    },
    {
     "name": "stderr",
     "output_type": "stream",
     "text": [
      "/var/folders/k1/z3v9vvcx2zj8knzj63hcxqh40000gn/T/ipykernel_92657/3174677684.py:33: DtypeWarning: Columns (10,16,18) have mixed types. Specify dtype option on import or set low_memory=False.\n",
      "  itcont_df = pd.read_csv(my_dir + filename, header=None, sep='|', on_bad_lines='warn')\n"
     ]
    },
    {
     "name": "stdout",
     "output_type": "stream",
     "text": [
      "/Users/darionguan/Desktop/SAS Project 1/by_date/itcont_2020_20200802_20200811.txt\n"
     ]
    },
    {
     "name": "stderr",
     "output_type": "stream",
     "text": [
      "b'Skipping line 944433: expected 21 fields, saw 22\\n'\n",
      "b'Skipping line 1691599: expected 21 fields, saw 26\\n'\n",
      "b'Skipping line 1735082: expected 21 fields, saw 22\\n'\n",
      "/var/folders/k1/z3v9vvcx2zj8knzj63hcxqh40000gn/T/ipykernel_92657/3174677684.py:33: DtypeWarning: Columns (10,18) have mixed types. Specify dtype option on import or set low_memory=False.\n",
      "  itcont_df = pd.read_csv(my_dir + filename, header=None, sep='|', on_bad_lines='warn')\n"
     ]
    },
    {
     "name": "stdout",
     "output_type": "stream",
     "text": [
      "/Users/darionguan/Desktop/SAS Project 1/by_date/itcont_2020_20191109_20191204.txt\n"
     ]
    },
    {
     "name": "stderr",
     "output_type": "stream",
     "text": [
      "/var/folders/k1/z3v9vvcx2zj8knzj63hcxqh40000gn/T/ipykernel_92657/3174677684.py:33: DtypeWarning: Columns (10,15,16,18) have mixed types. Specify dtype option on import or set low_memory=False.\n",
      "  itcont_df = pd.read_csv(my_dir + filename, header=None, sep='|', on_bad_lines='warn')\n"
     ]
    },
    {
     "name": "stdout",
     "output_type": "stream",
     "text": [
      "/Users/darionguan/Desktop/SAS Project 1/by_date/itcont_2020_20201024_20201025.txt\n"
     ]
    },
    {
     "name": "stderr",
     "output_type": "stream",
     "text": [
      "b'Skipping line 672204: expected 21 fields, saw 26\\n'\n",
      "/var/folders/k1/z3v9vvcx2zj8knzj63hcxqh40000gn/T/ipykernel_92657/3174677684.py:33: DtypeWarning: Columns (18) have mixed types. Specify dtype option on import or set low_memory=False.\n",
      "  itcont_df = pd.read_csv(my_dir + filename, header=None, sep='|', on_bad_lines='warn')\n"
     ]
    },
    {
     "name": "stdout",
     "output_type": "stream",
     "text": [
      "/Users/darionguan/Desktop/SAS Project 1/by_date/itcont_2020_20201003_20201006.txt\n"
     ]
    },
    {
     "name": "stderr",
     "output_type": "stream",
     "text": [
      "/var/folders/k1/z3v9vvcx2zj8knzj63hcxqh40000gn/T/ipykernel_92657/3174677684.py:33: DtypeWarning: Columns (10,18,19) have mixed types. Specify dtype option on import or set low_memory=False.\n",
      "  itcont_df = pd.read_csv(my_dir + filename, header=None, sep='|', on_bad_lines='warn')\n"
     ]
    },
    {
     "name": "stdout",
     "output_type": "stream",
     "text": [
      "/Users/darionguan/Desktop/SAS Project 1/by_date/itcont_2020_20201011_20201013.txt\n"
     ]
    },
    {
     "name": "stderr",
     "output_type": "stream",
     "text": [
      "/var/folders/k1/z3v9vvcx2zj8knzj63hcxqh40000gn/T/ipykernel_92657/3174677684.py:33: DtypeWarning: Columns (10,16,18) have mixed types. Specify dtype option on import or set low_memory=False.\n",
      "  itcont_df = pd.read_csv(my_dir + filename, header=None, sep='|', on_bad_lines='warn')\n"
     ]
    },
    {
     "name": "stdout",
     "output_type": "stream",
     "text": [
      "/Users/darionguan/Desktop/SAS Project 1/by_date/itcont_2020_20200928_20200930.txt\n"
     ]
    },
    {
     "name": "stderr",
     "output_type": "stream",
     "text": [
      "/var/folders/k1/z3v9vvcx2zj8knzj63hcxqh40000gn/T/ipykernel_92657/3174677684.py:33: DtypeWarning: Columns (10,18) have mixed types. Specify dtype option on import or set low_memory=False.\n",
      "  itcont_df = pd.read_csv(my_dir + filename, header=None, sep='|', on_bad_lines='warn')\n"
     ]
    },
    {
     "name": "stdout",
     "output_type": "stream",
     "text": [
      "/Users/darionguan/Desktop/SAS Project 1/by_date/itcont_2020_20200919_20200922.txt\n"
     ]
    },
    {
     "name": "stderr",
     "output_type": "stream",
     "text": [
      "/var/folders/k1/z3v9vvcx2zj8knzj63hcxqh40000gn/T/ipykernel_92657/3174677684.py:33: DtypeWarning: Columns (18) have mixed types. Specify dtype option on import or set low_memory=False.\n",
      "  itcont_df = pd.read_csv(my_dir + filename, header=None, sep='|', on_bad_lines='warn')\n"
     ]
    },
    {
     "name": "stdout",
     "output_type": "stream",
     "text": [
      "/Users/darionguan/Desktop/SAS Project 1/by_date/itcont_2020_20201108_20201111.txt\n"
     ]
    },
    {
     "name": "stderr",
     "output_type": "stream",
     "text": [
      "/var/folders/k1/z3v9vvcx2zj8knzj63hcxqh40000gn/T/ipykernel_92657/3174677684.py:33: DtypeWarning: Columns (10,18) have mixed types. Specify dtype option on import or set low_memory=False.\n",
      "  itcont_df = pd.read_csv(my_dir + filename, header=None, sep='|', on_bad_lines='warn')\n"
     ]
    },
    {
     "name": "stdout",
     "output_type": "stream",
     "text": [
      "/Users/darionguan/Desktop/SAS Project 1/by_date/itcont_2020_20190810_20190914.txt\n"
     ]
    },
    {
     "name": "stderr",
     "output_type": "stream",
     "text": [
      "/var/folders/k1/z3v9vvcx2zj8knzj63hcxqh40000gn/T/ipykernel_92657/3174677684.py:33: DtypeWarning: Columns (10,16,18) have mixed types. Specify dtype option on import or set low_memory=False.\n",
      "  itcont_df = pd.read_csv(my_dir + filename, header=None, sep='|', on_bad_lines='warn')\n"
     ]
    },
    {
     "name": "stdout",
     "output_type": "stream",
     "text": [
      "/Users/darionguan/Desktop/SAS Project 1/by_date/itcont_2020_20191205_20191228.txt\n"
     ]
    },
    {
     "name": "stderr",
     "output_type": "stream",
     "text": [
      "/var/folders/k1/z3v9vvcx2zj8knzj63hcxqh40000gn/T/ipykernel_92657/3174677684.py:33: DtypeWarning: Columns (10) have mixed types. Specify dtype option on import or set low_memory=False.\n",
      "  itcont_df = pd.read_csv(my_dir + filename, header=None, sep='|', on_bad_lines='warn')\n"
     ]
    },
    {
     "name": "stdout",
     "output_type": "stream",
     "text": [
      "/Users/darionguan/Desktop/SAS Project 1/by_date/itcont_2020_20201030_20201030.txt\n"
     ]
    },
    {
     "name": "stderr",
     "output_type": "stream",
     "text": [
      "b'Skipping line 183053: expected 21 fields, saw 22\\n'\n",
      "/var/folders/k1/z3v9vvcx2zj8knzj63hcxqh40000gn/T/ipykernel_92657/3174677684.py:33: DtypeWarning: Columns (10,18) have mixed types. Specify dtype option on import or set low_memory=False.\n",
      "  itcont_df = pd.read_csv(my_dir + filename, header=None, sep='|', on_bad_lines='warn')\n"
     ]
    },
    {
     "name": "stdout",
     "output_type": "stream",
     "text": [
      "/Users/darionguan/Desktop/SAS Project 1/by_date/itcont_2020_20200812_20200818.txt\n"
     ]
    },
    {
     "name": "stderr",
     "output_type": "stream",
     "text": [
      "/var/folders/k1/z3v9vvcx2zj8knzj63hcxqh40000gn/T/ipykernel_92657/3174677684.py:33: DtypeWarning: Columns (10,18) have mixed types. Specify dtype option on import or set low_memory=False.\n",
      "  itcont_df = pd.read_csv(my_dir + filename, header=None, sep='|', on_bad_lines='warn')\n"
     ]
    },
    {
     "name": "stdout",
     "output_type": "stream",
     "text": [
      "/Users/darionguan/Desktop/SAS Project 1/by_date/itcont_2020_20191229_20200130.txt\n"
     ]
    },
    {
     "name": "stderr",
     "output_type": "stream",
     "text": [
      "/var/folders/k1/z3v9vvcx2zj8knzj63hcxqh40000gn/T/ipykernel_92657/3174677684.py:33: DtypeWarning: Columns (10) have mixed types. Specify dtype option on import or set low_memory=False.\n",
      "  itcont_df = pd.read_csv(my_dir + filename, header=None, sep='|', on_bad_lines='warn')\n"
     ]
    },
    {
     "name": "stdout",
     "output_type": "stream",
     "text": [
      "/Users/darionguan/Desktop/SAS Project 1/by_date/itcont_2020_20200426_20200515.txt\n"
     ]
    },
    {
     "name": "stderr",
     "output_type": "stream",
     "text": [
      "/var/folders/k1/z3v9vvcx2zj8knzj63hcxqh40000gn/T/ipykernel_92657/3174677684.py:33: DtypeWarning: Columns (10,18) have mixed types. Specify dtype option on import or set low_memory=False.\n",
      "  itcont_df = pd.read_csv(my_dir + filename, header=None, sep='|', on_bad_lines='warn')\n"
     ]
    },
    {
     "name": "stdout",
     "output_type": "stream",
     "text": [
      "/Users/darionguan/Desktop/SAS Project 1/by_date/itcont_2020_20190915_20191012.txt\n"
     ]
    },
    {
     "name": "stderr",
     "output_type": "stream",
     "text": [
      "/var/folders/k1/z3v9vvcx2zj8knzj63hcxqh40000gn/T/ipykernel_92657/3174677684.py:33: DtypeWarning: Columns (10,16,18) have mixed types. Specify dtype option on import or set low_memory=False.\n",
      "  itcont_df = pd.read_csv(my_dir + filename, header=None, sep='|', on_bad_lines='warn')\n"
     ]
    },
    {
     "name": "stdout",
     "output_type": "stream",
     "text": [
      "/Users/darionguan/Desktop/SAS Project 1/by_date/itcont_2020_20200724_20200801.txt\n"
     ]
    },
    {
     "name": "stderr",
     "output_type": "stream",
     "text": [
      "/var/folders/k1/z3v9vvcx2zj8knzj63hcxqh40000gn/T/ipykernel_92657/3174677684.py:33: DtypeWarning: Columns (10,18) have mixed types. Specify dtype option on import or set low_memory=False.\n",
      "  itcont_df = pd.read_csv(my_dir + filename, header=None, sep='|', on_bad_lines='warn')\n"
     ]
    },
    {
     "name": "stdout",
     "output_type": "stream",
     "text": [
      "/Users/darionguan/Desktop/SAS Project 1/by_date/itcont_2020_20201016_20201018.txt\n"
     ]
    },
    {
     "name": "stderr",
     "output_type": "stream",
     "text": [
      "/var/folders/k1/z3v9vvcx2zj8knzj63hcxqh40000gn/T/ipykernel_92657/3174677684.py:33: DtypeWarning: Columns (10,18) have mixed types. Specify dtype option on import or set low_memory=False.\n",
      "  itcont_df = pd.read_csv(my_dir + filename, header=None, sep='|', on_bad_lines='warn')\n"
     ]
    },
    {
     "name": "stdout",
     "output_type": "stream",
     "text": [
      "/Users/darionguan/Desktop/SAS Project 1/by_date/itcont_2020_20190426_20190629.txt\n"
     ]
    },
    {
     "name": "stderr",
     "output_type": "stream",
     "text": [
      "b'Skipping line 1182230: expected 21 fields, saw 26\\n'\n",
      "/var/folders/k1/z3v9vvcx2zj8knzj63hcxqh40000gn/T/ipykernel_92657/3174677684.py:33: DtypeWarning: Columns (10) have mixed types. Specify dtype option on import or set low_memory=False.\n",
      "  itcont_df = pd.read_csv(my_dir + filename, header=None, sep='|', on_bad_lines='warn')\n"
     ]
    },
    {
     "name": "stdout",
     "output_type": "stream",
     "text": [
      "/Users/darionguan/Desktop/SAS Project 1/by_date/itcont_2020_20200826_20200830.txt\n"
     ]
    },
    {
     "name": "stderr",
     "output_type": "stream",
     "text": [
      "b'Skipping line 268429: expected 21 fields, saw 22\\n'\n",
      "b'Skipping line 1322375: expected 21 fields, saw 22\\n'\n",
      "/var/folders/k1/z3v9vvcx2zj8knzj63hcxqh40000gn/T/ipykernel_92657/3174677684.py:33: DtypeWarning: Columns (10,18) have mixed types. Specify dtype option on import or set low_memory=False.\n",
      "  itcont_df = pd.read_csv(my_dir + filename, header=None, sep='|', on_bad_lines='warn')\n"
     ]
    },
    {
     "name": "stdout",
     "output_type": "stream",
     "text": [
      "/Users/darionguan/Desktop/SAS Project 1/by_date/itcont_2020_20201007_20201010.txt\n"
     ]
    },
    {
     "name": "stderr",
     "output_type": "stream",
     "text": [
      "/var/folders/k1/z3v9vvcx2zj8knzj63hcxqh40000gn/T/ipykernel_92657/3174677684.py:33: DtypeWarning: Columns (10,18,19) have mixed types. Specify dtype option on import or set low_memory=False.\n",
      "  itcont_df = pd.read_csv(my_dir + filename, header=None, sep='|', on_bad_lines='warn')\n"
     ]
    },
    {
     "name": "stdout",
     "output_type": "stream",
     "text": [
      "/Users/darionguan/Desktop/SAS Project 1/by_date/itcont_2020_20201130_20201205.txt\n"
     ]
    },
    {
     "name": "stderr",
     "output_type": "stream",
     "text": [
      "/var/folders/k1/z3v9vvcx2zj8knzj63hcxqh40000gn/T/ipykernel_92657/3174677684.py:33: DtypeWarning: Columns (10,18) have mixed types. Specify dtype option on import or set low_memory=False.\n",
      "  itcont_df = pd.read_csv(my_dir + filename, header=None, sep='|', on_bad_lines='warn')\n"
     ]
    },
    {
     "name": "stdout",
     "output_type": "stream",
     "text": [
      "/Users/darionguan/Desktop/SAS Project 1/by_date/itcont_2020_20201231_20300630.txt\n",
      "/Users/darionguan/Desktop/SAS Project 1/by_date/itcont_2020_20200603_20200617.txt\n"
     ]
    },
    {
     "name": "stderr",
     "output_type": "stream",
     "text": [
      "/var/folders/k1/z3v9vvcx2zj8knzj63hcxqh40000gn/T/ipykernel_92657/3174677684.py:33: DtypeWarning: Columns (10,18) have mixed types. Specify dtype option on import or set low_memory=False.\n",
      "  itcont_df = pd.read_csv(my_dir + filename, header=None, sep='|', on_bad_lines='warn')\n"
     ]
    },
    {
     "name": "stdout",
     "output_type": "stream",
     "text": [
      "/Users/darionguan/Desktop/SAS Project 1/by_date/itcont_2020_20201014_20201015.txt\n"
     ]
    },
    {
     "name": "stderr",
     "output_type": "stream",
     "text": [
      "/var/folders/k1/z3v9vvcx2zj8knzj63hcxqh40000gn/T/ipykernel_92657/3174677684.py:33: DtypeWarning: Columns (10,18) have mixed types. Specify dtype option on import or set low_memory=False.\n",
      "  itcont_df = pd.read_csv(my_dir + filename, header=None, sep='|', on_bad_lines='warn')\n"
     ]
    },
    {
     "name": "stdout",
     "output_type": "stream",
     "text": [
      "/Users/darionguan/Desktop/SAS Project 1/by_date/itcont_2020_20201026_20201027.txt\n"
     ]
    },
    {
     "name": "stderr",
     "output_type": "stream",
     "text": [
      "b'Skipping line 1034848: expected 21 fields, saw 22\\n'\n",
      "/var/folders/k1/z3v9vvcx2zj8knzj63hcxqh40000gn/T/ipykernel_92657/3174677684.py:33: DtypeWarning: Columns (10,16,18) have mixed types. Specify dtype option on import or set low_memory=False.\n",
      "  itcont_df = pd.read_csv(my_dir + filename, header=None, sep='|', on_bad_lines='warn')\n"
     ]
    },
    {
     "name": "stdout",
     "output_type": "stream",
     "text": [
      "/Users/darionguan/Desktop/SAS Project 1/by_date/itcont_2020_20200305_20200329.txt\n"
     ]
    },
    {
     "name": "stderr",
     "output_type": "stream",
     "text": [
      "/var/folders/k1/z3v9vvcx2zj8knzj63hcxqh40000gn/T/ipykernel_92657/3174677684.py:33: DtypeWarning: Columns (10,18) have mixed types. Specify dtype option on import or set low_memory=False.\n",
      "  itcont_df = pd.read_csv(my_dir + filename, header=None, sep='|', on_bad_lines='warn')\n"
     ]
    },
    {
     "name": "stdout",
     "output_type": "stream",
     "text": [
      "/Users/darionguan/Desktop/SAS Project 1/by_date/itcont_2020_20200130_20200218.txt\n"
     ]
    },
    {
     "name": "stderr",
     "output_type": "stream",
     "text": [
      "/var/folders/k1/z3v9vvcx2zj8knzj63hcxqh40000gn/T/ipykernel_92657/3174677684.py:33: DtypeWarning: Columns (10,18) have mixed types. Specify dtype option on import or set low_memory=False.\n",
      "  itcont_df = pd.read_csv(my_dir + filename, header=None, sep='|', on_bad_lines='warn')\n"
     ]
    },
    {
     "name": "stdout",
     "output_type": "stream",
     "text": [
      "/Users/darionguan/Desktop/SAS Project 1/by_date/itcont_2020_20201123_20201129.txt\n"
     ]
    },
    {
     "name": "stderr",
     "output_type": "stream",
     "text": [
      "b'Skipping line 238350: expected 21 fields, saw 26\\n'\n",
      "/var/folders/k1/z3v9vvcx2zj8knzj63hcxqh40000gn/T/ipykernel_92657/3174677684.py:33: DtypeWarning: Columns (10,18) have mixed types. Specify dtype option on import or set low_memory=False.\n",
      "  itcont_df = pd.read_csv(my_dir + filename, header=None, sep='|', on_bad_lines='warn')\n"
     ]
    },
    {
     "name": "stdout",
     "output_type": "stream",
     "text": [
      "/Users/darionguan/Desktop/SAS Project 1/by_date/itcont_2020_20200930_20201002.txt\n"
     ]
    },
    {
     "name": "stderr",
     "output_type": "stream",
     "text": [
      "/var/folders/k1/z3v9vvcx2zj8knzj63hcxqh40000gn/T/ipykernel_92657/3174677684.py:33: DtypeWarning: Columns (10,18) have mixed types. Specify dtype option on import or set low_memory=False.\n",
      "  itcont_df = pd.read_csv(my_dir + filename, header=None, sep='|', on_bad_lines='warn')\n"
     ]
    },
    {
     "name": "stdout",
     "output_type": "stream",
     "text": [
      "/Users/darionguan/Desktop/SAS Project 1/by_date/itcont_2020_20201112_20201116.txt\n"
     ]
    },
    {
     "name": "stderr",
     "output_type": "stream",
     "text": [
      "/var/folders/k1/z3v9vvcx2zj8knzj63hcxqh40000gn/T/ipykernel_92657/3174677684.py:33: DtypeWarning: Columns (10,18) have mixed types. Specify dtype option on import or set low_memory=False.\n",
      "  itcont_df = pd.read_csv(my_dir + filename, header=None, sep='|', on_bad_lines='warn')\n"
     ]
    },
    {
     "name": "stdout",
     "output_type": "stream",
     "text": [
      "/Users/darionguan/Desktop/SAS Project 1/by_date/itcont_2020_20201206_20201213.txt\n"
     ]
    },
    {
     "name": "stderr",
     "output_type": "stream",
     "text": [
      "/var/folders/k1/z3v9vvcx2zj8knzj63hcxqh40000gn/T/ipykernel_92657/3174677684.py:33: DtypeWarning: Columns (3,10,18) have mixed types. Specify dtype option on import or set low_memory=False.\n",
      "  itcont_df = pd.read_csv(my_dir + filename, header=None, sep='|', on_bad_lines='warn')\n"
     ]
    },
    {
     "name": "stdout",
     "output_type": "stream",
     "text": [
      "/Users/darionguan/Desktop/SAS Project 1/by_date/itcont_2020_20200516_20200603.txt\n"
     ]
    },
    {
     "name": "stderr",
     "output_type": "stream",
     "text": [
      "/var/folders/k1/z3v9vvcx2zj8knzj63hcxqh40000gn/T/ipykernel_92657/3174677684.py:33: DtypeWarning: Columns (10,18) have mixed types. Specify dtype option on import or set low_memory=False.\n",
      "  itcont_df = pd.read_csv(my_dir + filename, header=None, sep='|', on_bad_lines='warn')\n"
     ]
    },
    {
     "name": "stdout",
     "output_type": "stream",
     "text": [
      "/Users/darionguan/Desktop/SAS Project 1/by_date/itcont_2020_20201117_20201122.txt\n"
     ]
    },
    {
     "name": "stderr",
     "output_type": "stream",
     "text": [
      "/var/folders/k1/z3v9vvcx2zj8knzj63hcxqh40000gn/T/ipykernel_92657/3174677684.py:33: DtypeWarning: Columns (10,18) have mixed types. Specify dtype option on import or set low_memory=False.\n",
      "  itcont_df = pd.read_csv(my_dir + filename, header=None, sep='|', on_bad_lines='warn')\n"
     ]
    },
    {
     "name": "stdout",
     "output_type": "stream",
     "text": [
      "/Users/darionguan/Desktop/SAS Project 1/by_date/itcont_2020_20200906_20200912.txt\n"
     ]
    },
    {
     "name": "stderr",
     "output_type": "stream",
     "text": [
      "/var/folders/k1/z3v9vvcx2zj8knzj63hcxqh40000gn/T/ipykernel_92657/3174677684.py:33: DtypeWarning: Columns (10,18) have mixed types. Specify dtype option on import or set low_memory=False.\n",
      "  itcont_df = pd.read_csv(my_dir + filename, header=None, sep='|', on_bad_lines='warn')\n"
     ]
    },
    {
     "name": "stdout",
     "output_type": "stream",
     "text": [
      "/Users/darionguan/Desktop/SAS Project 1/by_date/itcont_2020_19300929_20190425.txt\n"
     ]
    },
    {
     "name": "stderr",
     "output_type": "stream",
     "text": [
      "/var/folders/k1/z3v9vvcx2zj8knzj63hcxqh40000gn/T/ipykernel_92657/3174677684.py:33: DtypeWarning: Columns (3,10,18) have mixed types. Specify dtype option on import or set low_memory=False.\n",
      "  itcont_df = pd.read_csv(my_dir + filename, header=None, sep='|', on_bad_lines='warn')\n"
     ]
    },
    {
     "name": "stdout",
     "output_type": "stream",
     "text": [
      "/Users/darionguan/Desktop/SAS Project 1/by_date/itcont_2020_20200330_20200425.txt\n"
     ]
    },
    {
     "name": "stderr",
     "output_type": "stream",
     "text": [
      "/var/folders/k1/z3v9vvcx2zj8knzj63hcxqh40000gn/T/ipykernel_92657/3174677684.py:33: DtypeWarning: Columns (10,18) have mixed types. Specify dtype option on import or set low_memory=False.\n",
      "  itcont_df = pd.read_csv(my_dir + filename, header=None, sep='|', on_bad_lines='warn')\n"
     ]
    },
    {
     "name": "stdout",
     "output_type": "stream",
     "text": [
      "/Users/darionguan/Desktop/SAS Project 1/by_date/itcont_2020_20201031_20201101.txt\n"
     ]
    },
    {
     "name": "stderr",
     "output_type": "stream",
     "text": [
      "b'Skipping line 1117139: expected 21 fields, saw 26\\n'\n",
      "/var/folders/k1/z3v9vvcx2zj8knzj63hcxqh40000gn/T/ipykernel_92657/3174677684.py:33: DtypeWarning: Columns (10,18) have mixed types. Specify dtype option on import or set low_memory=False.\n",
      "  itcont_df = pd.read_csv(my_dir + filename, header=None, sep='|', on_bad_lines='warn')\n"
     ]
    },
    {
     "name": "stdout",
     "output_type": "stream",
     "text": [
      "/Users/darionguan/Desktop/SAS Project 1/by_date/itcont_2020_20200831_20200905.txt\n"
     ]
    },
    {
     "name": "stderr",
     "output_type": "stream",
     "text": [
      "b'Skipping line 1720771: expected 21 fields, saw 26\\n'\n",
      "/var/folders/k1/z3v9vvcx2zj8knzj63hcxqh40000gn/T/ipykernel_92657/3174677684.py:33: DtypeWarning: Columns (10,18) have mixed types. Specify dtype option on import or set low_memory=False.\n",
      "  itcont_df = pd.read_csv(my_dir + filename, header=None, sep='|', on_bad_lines='warn')\n"
     ]
    },
    {
     "name": "stdout",
     "output_type": "stream",
     "text": [
      "/Users/darionguan/Desktop/SAS Project 1/by_date/itcont_2020_20200712_20200723.txt\n"
     ]
    },
    {
     "name": "stderr",
     "output_type": "stream",
     "text": [
      "/var/folders/k1/z3v9vvcx2zj8knzj63hcxqh40000gn/T/ipykernel_92657/3174677684.py:33: DtypeWarning: Columns (10,18) have mixed types. Specify dtype option on import or set low_memory=False.\n",
      "  itcont_df = pd.read_csv(my_dir + filename, header=None, sep='|', on_bad_lines='warn')\n"
     ]
    }
   ],
   "source": [
    "# Make an empty dataframe, biden_df with same columns as individual contributions files\n",
    "dtypes = np.dtype(\n",
    "    [\n",
    "        ('CMTE_ID', object),\n",
    "        (\"AMNDT_IND\", object),\n",
    "        (\"RPT_TP\", object),\n",
    "        (\"TRANSACTION_PGI\", object),\n",
    "        (\"IMAGE_NUM\", int),\n",
    "        (\"TRANSACTION_TP\", object),\n",
    "        (\"ENTITY_TP\", object),\n",
    "        (\"NAME\", object),\n",
    "        (\"CITY\", object),\n",
    "        (\"STATE\", object),\n",
    "        (\"ZIP_CODE\", object),\n",
    "        (\"EMPLOYER\", object),\n",
    "        (\"OCCUPATION\", object),\n",
    "        (\"TRANSACTION_DT\", int),\n",
    "        (\"TRANSACTION_AMT\", int),\n",
    "        (\"OTHER_ID\", object),\n",
    "        (\"TRAN_ID\", object),\n",
    "        (\"FILE_NUM\", int),\n",
    "        (\"MEMO_CD\", object),\n",
    "        (\"MEMO_TEXT\", object),\n",
    "        (\"SUB_ID\", int)\n",
    "    ]\n",
    ")\n",
    "biden_df = pd.DataFrame(np.empty(0, dtype=dtypes))\n",
    "\n",
    "# Directory path\n",
    "my_dir = '/Users/darionguan/Desktop/Presidential Prediction/by_date/'\n",
    "# For file in directory\n",
    "for filename in os.listdir(my_dir):\n",
    "    # Create exception for 'invalid_dates.txt'\n",
    "    if filename.endswith('.txt') is True and filename.endswith('invalid_dates.txt') is False:\n",
    "        # Set itcontdf with pd.read_csv() but skip lines that have more than 21 columns\n",
    "        itcont_df = pd.read_csv(my_dir + filename, header=None, sep='|', on_bad_lines='warn')\n",
    "        # Rename columns\n",
    "        itcont_df.rename(columns = {itcont_df.columns[0]: 'CMTE_ID', \n",
    "                                    itcont_df.columns[1]: 'AMNDT_IND', \n",
    "                                    itcont_df.columns[2]: 'RPT_TP', \n",
    "                                    itcont_df.columns[3]: 'TRANSACTION_PGI', \n",
    "                                    itcont_df.columns[4]: 'IMAGE_NUM', \n",
    "                                    itcont_df.columns[5]: 'TRANSACTION_TP', \n",
    "                                    itcont_df.columns[6]: 'ENTITY_TP', \n",
    "                                    itcont_df.columns[7]: 'NAME', \n",
    "                                    itcont_df.columns[8]: 'CITY', \n",
    "                                    itcont_df.columns[9]: 'STATE', \n",
    "                                    itcont_df.columns[10]: 'ZIP_CODE', \n",
    "                                    itcont_df.columns[11]: 'EMPLOYER', \n",
    "                                    itcont_df.columns[12]: 'OCCUPATION', \n",
    "                                    itcont_df.columns[13]: 'TRANSACTION_DT', \n",
    "                                    itcont_df.columns[14]: 'TRANSACTION_AMT', \n",
    "                                    itcont_df.columns[15]: 'OTHER_ID', \n",
    "                                    itcont_df.columns[16]: 'TRAN_ID', \n",
    "                                    itcont_df.columns[17]: 'FILE_NUM', \n",
    "                                    itcont_df.columns[18]: 'MEMO_CD', \n",
    "                                    itcont_df.columns[19]: 'MEMO_TEXT', \n",
    "                                    itcont_df.columns[20]: 'SUB_ID'},inplace=True)\n",
    "        # working_df = rows of it_contdf where CMTE_ID is in biden_arr\n",
    "        working_df = itcont_df[itcont_df['CMTE_ID'].isin(biden_arr)]\n",
    "        # Concatenate to biden_df\n",
    "        biden_df = pd.concat([biden_df, working_df], ignore_index=True)\n",
    "# Write as a csv\n",
    "biden_df.to_csv('biden.csv', index=False)"
   ]
  },
  {
   "cell_type": "code",
   "execution_count": 9,
   "id": "45cf1722",
   "metadata": {},
   "outputs": [
    {
     "name": "stdout",
     "output_type": "stream",
     "text": [
      "/Users/darionguan/Desktop/SAS Project 1/by_date/itcont_2020_20201028_20201030.txt\n"
     ]
    },
    {
     "name": "stderr",
     "output_type": "stream",
     "text": [
      "/var/folders/k1/z3v9vvcx2zj8knzj63hcxqh40000gn/T/ipykernel_92657/3673036561.py:33: DtypeWarning: Columns (10,18) have mixed types. Specify dtype option on import or set low_memory=False.\n",
      "  itcont_df = pd.read_csv(my_dir + filename, header=None, sep='|', on_bad_lines='warn')\n"
     ]
    },
    {
     "name": "stdout",
     "output_type": "stream",
     "text": [
      "/Users/darionguan/Desktop/SAS Project 1/by_date/itcont_2020_20200630_20200711.txt\n"
     ]
    },
    {
     "name": "stderr",
     "output_type": "stream",
     "text": [
      "/var/folders/k1/z3v9vvcx2zj8knzj63hcxqh40000gn/T/ipykernel_92657/3673036561.py:33: DtypeWarning: Columns (10,18) have mixed types. Specify dtype option on import or set low_memory=False.\n",
      "  itcont_df = pd.read_csv(my_dir + filename, header=None, sep='|', on_bad_lines='warn')\n"
     ]
    },
    {
     "name": "stdout",
     "output_type": "stream",
     "text": [
      "/Users/darionguan/Desktop/SAS Project 1/by_date/itcont_2020_20200219_20200304.txt\n"
     ]
    },
    {
     "name": "stderr",
     "output_type": "stream",
     "text": [
      "/var/folders/k1/z3v9vvcx2zj8knzj63hcxqh40000gn/T/ipykernel_92657/3673036561.py:33: DtypeWarning: Columns (10,18) have mixed types. Specify dtype option on import or set low_memory=False.\n",
      "  itcont_df = pd.read_csv(my_dir + filename, header=None, sep='|', on_bad_lines='warn')\n"
     ]
    },
    {
     "name": "stdout",
     "output_type": "stream",
     "text": [
      "/Users/darionguan/Desktop/SAS Project 1/by_date/itcont_2020_20190630_20190809.txt\n"
     ]
    },
    {
     "name": "stderr",
     "output_type": "stream",
     "text": [
      "b'Skipping line 1381739: expected 21 fields, saw 22\\n'\n",
      "/var/folders/k1/z3v9vvcx2zj8knzj63hcxqh40000gn/T/ipykernel_92657/3673036561.py:33: DtypeWarning: Columns (10,18) have mixed types. Specify dtype option on import or set low_memory=False.\n",
      "  itcont_df = pd.read_csv(my_dir + filename, header=None, sep='|', on_bad_lines='warn')\n"
     ]
    },
    {
     "name": "stdout",
     "output_type": "stream",
     "text": [
      "/Users/darionguan/Desktop/SAS Project 1/by_date/itcont_2020_20201222_20201231.txt\n"
     ]
    },
    {
     "name": "stderr",
     "output_type": "stream",
     "text": [
      "/var/folders/k1/z3v9vvcx2zj8knzj63hcxqh40000gn/T/ipykernel_92657/3673036561.py:33: DtypeWarning: Columns (10,18) have mixed types. Specify dtype option on import or set low_memory=False.\n",
      "  itcont_df = pd.read_csv(my_dir + filename, header=None, sep='|', on_bad_lines='warn')\n"
     ]
    },
    {
     "name": "stdout",
     "output_type": "stream",
     "text": [
      "/Users/darionguan/Desktop/SAS Project 1/by_date/itcont_2020_20200923_20200927.txt\n"
     ]
    },
    {
     "name": "stderr",
     "output_type": "stream",
     "text": [
      "/var/folders/k1/z3v9vvcx2zj8knzj63hcxqh40000gn/T/ipykernel_92657/3673036561.py:33: DtypeWarning: Columns (10,16,18) have mixed types. Specify dtype option on import or set low_memory=False.\n",
      "  itcont_df = pd.read_csv(my_dir + filename, header=None, sep='|', on_bad_lines='warn')\n"
     ]
    },
    {
     "name": "stdout",
     "output_type": "stream",
     "text": [
      "/Users/darionguan/Desktop/SAS Project 1/by_date/itcont_2020_20200819_20200825.txt\n"
     ]
    },
    {
     "name": "stderr",
     "output_type": "stream",
     "text": [
      "b'Skipping line 51725: expected 21 fields, saw 22\\n'\n",
      "/var/folders/k1/z3v9vvcx2zj8knzj63hcxqh40000gn/T/ipykernel_92657/3673036561.py:33: DtypeWarning: Columns (10,18) have mixed types. Specify dtype option on import or set low_memory=False.\n",
      "  itcont_df = pd.read_csv(my_dir + filename, header=None, sep='|', on_bad_lines='warn')\n"
     ]
    },
    {
     "name": "stdout",
     "output_type": "stream",
     "text": [
      "/Users/darionguan/Desktop/SAS Project 1/by_date/itcont_2020_20201019_20201021.txt\n"
     ]
    },
    {
     "name": "stderr",
     "output_type": "stream",
     "text": [
      "b'Skipping line 844253: expected 21 fields, saw 26\\n'\n",
      "/var/folders/k1/z3v9vvcx2zj8knzj63hcxqh40000gn/T/ipykernel_92657/3673036561.py:33: DtypeWarning: Columns (18) have mixed types. Specify dtype option on import or set low_memory=False.\n",
      "  itcont_df = pd.read_csv(my_dir + filename, header=None, sep='|', on_bad_lines='warn')\n"
     ]
    },
    {
     "name": "stdout",
     "output_type": "stream",
     "text": [
      "/Users/darionguan/Desktop/SAS Project 1/by_date/itcont_2020_20201102_20201103.txt\n"
     ]
    },
    {
     "name": "stderr",
     "output_type": "stream",
     "text": [
      "/var/folders/k1/z3v9vvcx2zj8knzj63hcxqh40000gn/T/ipykernel_92657/3673036561.py:33: DtypeWarning: Columns (10,18) have mixed types. Specify dtype option on import or set low_memory=False.\n",
      "  itcont_df = pd.read_csv(my_dir + filename, header=None, sep='|', on_bad_lines='warn')\n"
     ]
    },
    {
     "name": "stdout",
     "output_type": "stream",
     "text": [
      "/Users/darionguan/Desktop/SAS Project 1/by_date/itcont_2020_20200618_20200629.txt\n"
     ]
    },
    {
     "name": "stderr",
     "output_type": "stream",
     "text": [
      "/var/folders/k1/z3v9vvcx2zj8knzj63hcxqh40000gn/T/ipykernel_92657/3673036561.py:33: DtypeWarning: Columns (10,18) have mixed types. Specify dtype option on import or set low_memory=False.\n",
      "  itcont_df = pd.read_csv(my_dir + filename, header=None, sep='|', on_bad_lines='warn')\n"
     ]
    },
    {
     "name": "stdout",
     "output_type": "stream",
     "text": [
      "/Users/darionguan/Desktop/SAS Project 1/by_date/itcont_2020_20201104_20201107.txt\n"
     ]
    },
    {
     "name": "stderr",
     "output_type": "stream",
     "text": [
      "/var/folders/k1/z3v9vvcx2zj8knzj63hcxqh40000gn/T/ipykernel_92657/3673036561.py:33: DtypeWarning: Columns (10,18) have mixed types. Specify dtype option on import or set low_memory=False.\n",
      "  itcont_df = pd.read_csv(my_dir + filename, header=None, sep='|', on_bad_lines='warn')\n"
     ]
    },
    {
     "name": "stdout",
     "output_type": "stream",
     "text": [
      "/Users/darionguan/Desktop/SAS Project 1/by_date/itcont_2020_20200913_20200918.txt\n"
     ]
    },
    {
     "name": "stderr",
     "output_type": "stream",
     "text": [
      "/var/folders/k1/z3v9vvcx2zj8knzj63hcxqh40000gn/T/ipykernel_92657/3673036561.py:33: DtypeWarning: Columns (10,18) have mixed types. Specify dtype option on import or set low_memory=False.\n",
      "  itcont_df = pd.read_csv(my_dir + filename, header=None, sep='|', on_bad_lines='warn')\n"
     ]
    },
    {
     "name": "stdout",
     "output_type": "stream",
     "text": [
      "/Users/darionguan/Desktop/SAS Project 1/by_date/itcont_2020_20201214_20201221.txt\n"
     ]
    },
    {
     "name": "stderr",
     "output_type": "stream",
     "text": [
      "/var/folders/k1/z3v9vvcx2zj8knzj63hcxqh40000gn/T/ipykernel_92657/3673036561.py:33: DtypeWarning: Columns (3,10,18) have mixed types. Specify dtype option on import or set low_memory=False.\n",
      "  itcont_df = pd.read_csv(my_dir + filename, header=None, sep='|', on_bad_lines='warn')\n"
     ]
    },
    {
     "name": "stdout",
     "output_type": "stream",
     "text": [
      "/Users/darionguan/Desktop/SAS Project 1/by_date/itcont_2020_20191013_20191108.txt\n"
     ]
    },
    {
     "name": "stderr",
     "output_type": "stream",
     "text": [
      "/var/folders/k1/z3v9vvcx2zj8knzj63hcxqh40000gn/T/ipykernel_92657/3673036561.py:33: DtypeWarning: Columns (18) have mixed types. Specify dtype option on import or set low_memory=False.\n",
      "  itcont_df = pd.read_csv(my_dir + filename, header=None, sep='|', on_bad_lines='warn')\n"
     ]
    },
    {
     "name": "stdout",
     "output_type": "stream",
     "text": [
      "/Users/darionguan/Desktop/SAS Project 1/by_date/itcont_2020_20201022_20201023.txt\n"
     ]
    },
    {
     "name": "stderr",
     "output_type": "stream",
     "text": [
      "/var/folders/k1/z3v9vvcx2zj8knzj63hcxqh40000gn/T/ipykernel_92657/3673036561.py:33: DtypeWarning: Columns (10,16,18) have mixed types. Specify dtype option on import or set low_memory=False.\n",
      "  itcont_df = pd.read_csv(my_dir + filename, header=None, sep='|', on_bad_lines='warn')\n"
     ]
    },
    {
     "name": "stdout",
     "output_type": "stream",
     "text": [
      "/Users/darionguan/Desktop/SAS Project 1/by_date/itcont_2020_20200802_20200811.txt\n"
     ]
    },
    {
     "name": "stderr",
     "output_type": "stream",
     "text": [
      "b'Skipping line 944433: expected 21 fields, saw 22\\n'\n",
      "b'Skipping line 1691599: expected 21 fields, saw 26\\n'\n",
      "b'Skipping line 1735082: expected 21 fields, saw 22\\n'\n",
      "/var/folders/k1/z3v9vvcx2zj8knzj63hcxqh40000gn/T/ipykernel_92657/3673036561.py:33: DtypeWarning: Columns (10,18) have mixed types. Specify dtype option on import or set low_memory=False.\n",
      "  itcont_df = pd.read_csv(my_dir + filename, header=None, sep='|', on_bad_lines='warn')\n"
     ]
    },
    {
     "name": "stdout",
     "output_type": "stream",
     "text": [
      "/Users/darionguan/Desktop/SAS Project 1/by_date/itcont_2020_20191109_20191204.txt\n"
     ]
    },
    {
     "name": "stderr",
     "output_type": "stream",
     "text": [
      "/var/folders/k1/z3v9vvcx2zj8knzj63hcxqh40000gn/T/ipykernel_92657/3673036561.py:33: DtypeWarning: Columns (10,15,16,18) have mixed types. Specify dtype option on import or set low_memory=False.\n",
      "  itcont_df = pd.read_csv(my_dir + filename, header=None, sep='|', on_bad_lines='warn')\n"
     ]
    },
    {
     "name": "stdout",
     "output_type": "stream",
     "text": [
      "/Users/darionguan/Desktop/SAS Project 1/by_date/itcont_2020_20201024_20201025.txt\n"
     ]
    },
    {
     "name": "stderr",
     "output_type": "stream",
     "text": [
      "b'Skipping line 672204: expected 21 fields, saw 26\\n'\n",
      "/var/folders/k1/z3v9vvcx2zj8knzj63hcxqh40000gn/T/ipykernel_92657/3673036561.py:33: DtypeWarning: Columns (18) have mixed types. Specify dtype option on import or set low_memory=False.\n",
      "  itcont_df = pd.read_csv(my_dir + filename, header=None, sep='|', on_bad_lines='warn')\n"
     ]
    },
    {
     "name": "stdout",
     "output_type": "stream",
     "text": [
      "/Users/darionguan/Desktop/SAS Project 1/by_date/itcont_2020_20201003_20201006.txt\n"
     ]
    },
    {
     "name": "stderr",
     "output_type": "stream",
     "text": [
      "/var/folders/k1/z3v9vvcx2zj8knzj63hcxqh40000gn/T/ipykernel_92657/3673036561.py:33: DtypeWarning: Columns (10,18,19) have mixed types. Specify dtype option on import or set low_memory=False.\n",
      "  itcont_df = pd.read_csv(my_dir + filename, header=None, sep='|', on_bad_lines='warn')\n"
     ]
    },
    {
     "name": "stdout",
     "output_type": "stream",
     "text": [
      "/Users/darionguan/Desktop/SAS Project 1/by_date/itcont_2020_20201011_20201013.txt\n"
     ]
    },
    {
     "name": "stderr",
     "output_type": "stream",
     "text": [
      "/var/folders/k1/z3v9vvcx2zj8knzj63hcxqh40000gn/T/ipykernel_92657/3673036561.py:33: DtypeWarning: Columns (10,16,18) have mixed types. Specify dtype option on import or set low_memory=False.\n",
      "  itcont_df = pd.read_csv(my_dir + filename, header=None, sep='|', on_bad_lines='warn')\n"
     ]
    },
    {
     "name": "stdout",
     "output_type": "stream",
     "text": [
      "/Users/darionguan/Desktop/SAS Project 1/by_date/itcont_2020_20200928_20200930.txt\n"
     ]
    },
    {
     "name": "stderr",
     "output_type": "stream",
     "text": [
      "/var/folders/k1/z3v9vvcx2zj8knzj63hcxqh40000gn/T/ipykernel_92657/3673036561.py:33: DtypeWarning: Columns (10,18) have mixed types. Specify dtype option on import or set low_memory=False.\n",
      "  itcont_df = pd.read_csv(my_dir + filename, header=None, sep='|', on_bad_lines='warn')\n"
     ]
    },
    {
     "name": "stdout",
     "output_type": "stream",
     "text": [
      "/Users/darionguan/Desktop/SAS Project 1/by_date/itcont_2020_20200919_20200922.txt\n"
     ]
    },
    {
     "name": "stderr",
     "output_type": "stream",
     "text": [
      "/var/folders/k1/z3v9vvcx2zj8knzj63hcxqh40000gn/T/ipykernel_92657/3673036561.py:33: DtypeWarning: Columns (18) have mixed types. Specify dtype option on import or set low_memory=False.\n",
      "  itcont_df = pd.read_csv(my_dir + filename, header=None, sep='|', on_bad_lines='warn')\n"
     ]
    },
    {
     "name": "stdout",
     "output_type": "stream",
     "text": [
      "/Users/darionguan/Desktop/SAS Project 1/by_date/itcont_2020_20201108_20201111.txt\n"
     ]
    },
    {
     "name": "stderr",
     "output_type": "stream",
     "text": [
      "/var/folders/k1/z3v9vvcx2zj8knzj63hcxqh40000gn/T/ipykernel_92657/3673036561.py:33: DtypeWarning: Columns (10,18) have mixed types. Specify dtype option on import or set low_memory=False.\n",
      "  itcont_df = pd.read_csv(my_dir + filename, header=None, sep='|', on_bad_lines='warn')\n"
     ]
    },
    {
     "name": "stdout",
     "output_type": "stream",
     "text": [
      "/Users/darionguan/Desktop/SAS Project 1/by_date/itcont_2020_20190810_20190914.txt\n"
     ]
    },
    {
     "name": "stderr",
     "output_type": "stream",
     "text": [
      "/var/folders/k1/z3v9vvcx2zj8knzj63hcxqh40000gn/T/ipykernel_92657/3673036561.py:33: DtypeWarning: Columns (10,16,18) have mixed types. Specify dtype option on import or set low_memory=False.\n",
      "  itcont_df = pd.read_csv(my_dir + filename, header=None, sep='|', on_bad_lines='warn')\n"
     ]
    },
    {
     "name": "stdout",
     "output_type": "stream",
     "text": [
      "/Users/darionguan/Desktop/SAS Project 1/by_date/itcont_2020_20191205_20191228.txt\n"
     ]
    },
    {
     "name": "stderr",
     "output_type": "stream",
     "text": [
      "/var/folders/k1/z3v9vvcx2zj8knzj63hcxqh40000gn/T/ipykernel_92657/3673036561.py:33: DtypeWarning: Columns (10) have mixed types. Specify dtype option on import or set low_memory=False.\n",
      "  itcont_df = pd.read_csv(my_dir + filename, header=None, sep='|', on_bad_lines='warn')\n"
     ]
    },
    {
     "name": "stdout",
     "output_type": "stream",
     "text": [
      "/Users/darionguan/Desktop/SAS Project 1/by_date/itcont_2020_20201030_20201030.txt\n"
     ]
    },
    {
     "name": "stderr",
     "output_type": "stream",
     "text": [
      "b'Skipping line 183053: expected 21 fields, saw 22\\n'\n",
      "/var/folders/k1/z3v9vvcx2zj8knzj63hcxqh40000gn/T/ipykernel_92657/3673036561.py:33: DtypeWarning: Columns (10,18) have mixed types. Specify dtype option on import or set low_memory=False.\n",
      "  itcont_df = pd.read_csv(my_dir + filename, header=None, sep='|', on_bad_lines='warn')\n"
     ]
    },
    {
     "name": "stdout",
     "output_type": "stream",
     "text": [
      "/Users/darionguan/Desktop/SAS Project 1/by_date/itcont_2020_20200812_20200818.txt\n"
     ]
    },
    {
     "name": "stderr",
     "output_type": "stream",
     "text": [
      "/var/folders/k1/z3v9vvcx2zj8knzj63hcxqh40000gn/T/ipykernel_92657/3673036561.py:33: DtypeWarning: Columns (10,18) have mixed types. Specify dtype option on import or set low_memory=False.\n",
      "  itcont_df = pd.read_csv(my_dir + filename, header=None, sep='|', on_bad_lines='warn')\n"
     ]
    },
    {
     "name": "stdout",
     "output_type": "stream",
     "text": [
      "/Users/darionguan/Desktop/SAS Project 1/by_date/itcont_2020_20191229_20200130.txt\n"
     ]
    },
    {
     "name": "stderr",
     "output_type": "stream",
     "text": [
      "/var/folders/k1/z3v9vvcx2zj8knzj63hcxqh40000gn/T/ipykernel_92657/3673036561.py:33: DtypeWarning: Columns (10) have mixed types. Specify dtype option on import or set low_memory=False.\n",
      "  itcont_df = pd.read_csv(my_dir + filename, header=None, sep='|', on_bad_lines='warn')\n"
     ]
    },
    {
     "name": "stdout",
     "output_type": "stream",
     "text": [
      "/Users/darionguan/Desktop/SAS Project 1/by_date/itcont_2020_20200426_20200515.txt\n"
     ]
    },
    {
     "name": "stderr",
     "output_type": "stream",
     "text": [
      "/var/folders/k1/z3v9vvcx2zj8knzj63hcxqh40000gn/T/ipykernel_92657/3673036561.py:33: DtypeWarning: Columns (10,18) have mixed types. Specify dtype option on import or set low_memory=False.\n",
      "  itcont_df = pd.read_csv(my_dir + filename, header=None, sep='|', on_bad_lines='warn')\n"
     ]
    },
    {
     "name": "stdout",
     "output_type": "stream",
     "text": [
      "/Users/darionguan/Desktop/SAS Project 1/by_date/itcont_2020_20190915_20191012.txt\n"
     ]
    },
    {
     "name": "stderr",
     "output_type": "stream",
     "text": [
      "/var/folders/k1/z3v9vvcx2zj8knzj63hcxqh40000gn/T/ipykernel_92657/3673036561.py:33: DtypeWarning: Columns (10,16,18) have mixed types. Specify dtype option on import or set low_memory=False.\n",
      "  itcont_df = pd.read_csv(my_dir + filename, header=None, sep='|', on_bad_lines='warn')\n"
     ]
    },
    {
     "name": "stdout",
     "output_type": "stream",
     "text": [
      "/Users/darionguan/Desktop/SAS Project 1/by_date/itcont_2020_20200724_20200801.txt\n"
     ]
    },
    {
     "name": "stderr",
     "output_type": "stream",
     "text": [
      "/var/folders/k1/z3v9vvcx2zj8knzj63hcxqh40000gn/T/ipykernel_92657/3673036561.py:33: DtypeWarning: Columns (10,18) have mixed types. Specify dtype option on import or set low_memory=False.\n",
      "  itcont_df = pd.read_csv(my_dir + filename, header=None, sep='|', on_bad_lines='warn')\n"
     ]
    },
    {
     "name": "stdout",
     "output_type": "stream",
     "text": [
      "/Users/darionguan/Desktop/SAS Project 1/by_date/itcont_2020_20201016_20201018.txt\n"
     ]
    },
    {
     "name": "stderr",
     "output_type": "stream",
     "text": [
      "/var/folders/k1/z3v9vvcx2zj8knzj63hcxqh40000gn/T/ipykernel_92657/3673036561.py:33: DtypeWarning: Columns (10,18) have mixed types. Specify dtype option on import or set low_memory=False.\n",
      "  itcont_df = pd.read_csv(my_dir + filename, header=None, sep='|', on_bad_lines='warn')\n"
     ]
    },
    {
     "name": "stdout",
     "output_type": "stream",
     "text": [
      "/Users/darionguan/Desktop/SAS Project 1/by_date/itcont_2020_20190426_20190629.txt\n"
     ]
    },
    {
     "name": "stderr",
     "output_type": "stream",
     "text": [
      "b'Skipping line 1182230: expected 21 fields, saw 26\\n'\n",
      "/var/folders/k1/z3v9vvcx2zj8knzj63hcxqh40000gn/T/ipykernel_92657/3673036561.py:33: DtypeWarning: Columns (10) have mixed types. Specify dtype option on import or set low_memory=False.\n",
      "  itcont_df = pd.read_csv(my_dir + filename, header=None, sep='|', on_bad_lines='warn')\n"
     ]
    },
    {
     "name": "stdout",
     "output_type": "stream",
     "text": [
      "/Users/darionguan/Desktop/SAS Project 1/by_date/itcont_2020_20200826_20200830.txt\n"
     ]
    },
    {
     "name": "stderr",
     "output_type": "stream",
     "text": [
      "b'Skipping line 268429: expected 21 fields, saw 22\\n'\n",
      "b'Skipping line 1322375: expected 21 fields, saw 22\\n'\n",
      "/var/folders/k1/z3v9vvcx2zj8knzj63hcxqh40000gn/T/ipykernel_92657/3673036561.py:33: DtypeWarning: Columns (10,18) have mixed types. Specify dtype option on import or set low_memory=False.\n",
      "  itcont_df = pd.read_csv(my_dir + filename, header=None, sep='|', on_bad_lines='warn')\n"
     ]
    },
    {
     "name": "stdout",
     "output_type": "stream",
     "text": [
      "/Users/darionguan/Desktop/SAS Project 1/by_date/itcont_2020_20201007_20201010.txt\n"
     ]
    },
    {
     "name": "stderr",
     "output_type": "stream",
     "text": [
      "/var/folders/k1/z3v9vvcx2zj8knzj63hcxqh40000gn/T/ipykernel_92657/3673036561.py:33: DtypeWarning: Columns (10,18,19) have mixed types. Specify dtype option on import or set low_memory=False.\n",
      "  itcont_df = pd.read_csv(my_dir + filename, header=None, sep='|', on_bad_lines='warn')\n"
     ]
    },
    {
     "name": "stdout",
     "output_type": "stream",
     "text": [
      "/Users/darionguan/Desktop/SAS Project 1/by_date/itcont_2020_20201130_20201205.txt\n"
     ]
    },
    {
     "name": "stderr",
     "output_type": "stream",
     "text": [
      "/var/folders/k1/z3v9vvcx2zj8knzj63hcxqh40000gn/T/ipykernel_92657/3673036561.py:33: DtypeWarning: Columns (10,18) have mixed types. Specify dtype option on import or set low_memory=False.\n",
      "  itcont_df = pd.read_csv(my_dir + filename, header=None, sep='|', on_bad_lines='warn')\n"
     ]
    },
    {
     "name": "stdout",
     "output_type": "stream",
     "text": [
      "/Users/darionguan/Desktop/SAS Project 1/by_date/itcont_2020_20201231_20300630.txt\n",
      "/Users/darionguan/Desktop/SAS Project 1/by_date/itcont_2020_20200603_20200617.txt\n"
     ]
    },
    {
     "name": "stderr",
     "output_type": "stream",
     "text": [
      "/var/folders/k1/z3v9vvcx2zj8knzj63hcxqh40000gn/T/ipykernel_92657/3673036561.py:33: DtypeWarning: Columns (10,18) have mixed types. Specify dtype option on import or set low_memory=False.\n",
      "  itcont_df = pd.read_csv(my_dir + filename, header=None, sep='|', on_bad_lines='warn')\n"
     ]
    },
    {
     "name": "stdout",
     "output_type": "stream",
     "text": [
      "/Users/darionguan/Desktop/SAS Project 1/by_date/itcont_2020_20201014_20201015.txt\n"
     ]
    },
    {
     "name": "stderr",
     "output_type": "stream",
     "text": [
      "/var/folders/k1/z3v9vvcx2zj8knzj63hcxqh40000gn/T/ipykernel_92657/3673036561.py:33: DtypeWarning: Columns (10,18) have mixed types. Specify dtype option on import or set low_memory=False.\n",
      "  itcont_df = pd.read_csv(my_dir + filename, header=None, sep='|', on_bad_lines='warn')\n"
     ]
    },
    {
     "name": "stdout",
     "output_type": "stream",
     "text": [
      "/Users/darionguan/Desktop/SAS Project 1/by_date/itcont_2020_20201026_20201027.txt\n"
     ]
    },
    {
     "name": "stderr",
     "output_type": "stream",
     "text": [
      "b'Skipping line 1034848: expected 21 fields, saw 22\\n'\n",
      "/var/folders/k1/z3v9vvcx2zj8knzj63hcxqh40000gn/T/ipykernel_92657/3673036561.py:33: DtypeWarning: Columns (10,16,18) have mixed types. Specify dtype option on import or set low_memory=False.\n",
      "  itcont_df = pd.read_csv(my_dir + filename, header=None, sep='|', on_bad_lines='warn')\n"
     ]
    },
    {
     "name": "stdout",
     "output_type": "stream",
     "text": [
      "/Users/darionguan/Desktop/SAS Project 1/by_date/itcont_2020_20200305_20200329.txt\n"
     ]
    },
    {
     "name": "stderr",
     "output_type": "stream",
     "text": [
      "/var/folders/k1/z3v9vvcx2zj8knzj63hcxqh40000gn/T/ipykernel_92657/3673036561.py:33: DtypeWarning: Columns (10,18) have mixed types. Specify dtype option on import or set low_memory=False.\n",
      "  itcont_df = pd.read_csv(my_dir + filename, header=None, sep='|', on_bad_lines='warn')\n"
     ]
    },
    {
     "name": "stdout",
     "output_type": "stream",
     "text": [
      "/Users/darionguan/Desktop/SAS Project 1/by_date/itcont_2020_20200130_20200218.txt\n"
     ]
    },
    {
     "name": "stderr",
     "output_type": "stream",
     "text": [
      "/var/folders/k1/z3v9vvcx2zj8knzj63hcxqh40000gn/T/ipykernel_92657/3673036561.py:33: DtypeWarning: Columns (10,18) have mixed types. Specify dtype option on import or set low_memory=False.\n",
      "  itcont_df = pd.read_csv(my_dir + filename, header=None, sep='|', on_bad_lines='warn')\n"
     ]
    },
    {
     "name": "stdout",
     "output_type": "stream",
     "text": [
      "/Users/darionguan/Desktop/SAS Project 1/by_date/itcont_2020_20201123_20201129.txt\n"
     ]
    },
    {
     "name": "stderr",
     "output_type": "stream",
     "text": [
      "b'Skipping line 238350: expected 21 fields, saw 26\\n'\n",
      "/var/folders/k1/z3v9vvcx2zj8knzj63hcxqh40000gn/T/ipykernel_92657/3673036561.py:33: DtypeWarning: Columns (10,18) have mixed types. Specify dtype option on import or set low_memory=False.\n",
      "  itcont_df = pd.read_csv(my_dir + filename, header=None, sep='|', on_bad_lines='warn')\n"
     ]
    },
    {
     "name": "stdout",
     "output_type": "stream",
     "text": [
      "/Users/darionguan/Desktop/SAS Project 1/by_date/itcont_2020_20200930_20201002.txt\n"
     ]
    },
    {
     "name": "stderr",
     "output_type": "stream",
     "text": [
      "/var/folders/k1/z3v9vvcx2zj8knzj63hcxqh40000gn/T/ipykernel_92657/3673036561.py:33: DtypeWarning: Columns (10,18) have mixed types. Specify dtype option on import or set low_memory=False.\n",
      "  itcont_df = pd.read_csv(my_dir + filename, header=None, sep='|', on_bad_lines='warn')\n"
     ]
    },
    {
     "name": "stdout",
     "output_type": "stream",
     "text": [
      "/Users/darionguan/Desktop/SAS Project 1/by_date/itcont_2020_20201112_20201116.txt\n"
     ]
    },
    {
     "name": "stderr",
     "output_type": "stream",
     "text": [
      "/var/folders/k1/z3v9vvcx2zj8knzj63hcxqh40000gn/T/ipykernel_92657/3673036561.py:33: DtypeWarning: Columns (10,18) have mixed types. Specify dtype option on import or set low_memory=False.\n",
      "  itcont_df = pd.read_csv(my_dir + filename, header=None, sep='|', on_bad_lines='warn')\n"
     ]
    },
    {
     "name": "stdout",
     "output_type": "stream",
     "text": [
      "/Users/darionguan/Desktop/SAS Project 1/by_date/itcont_2020_20201206_20201213.txt\n"
     ]
    },
    {
     "name": "stderr",
     "output_type": "stream",
     "text": [
      "/var/folders/k1/z3v9vvcx2zj8knzj63hcxqh40000gn/T/ipykernel_92657/3673036561.py:33: DtypeWarning: Columns (3,10,18) have mixed types. Specify dtype option on import or set low_memory=False.\n",
      "  itcont_df = pd.read_csv(my_dir + filename, header=None, sep='|', on_bad_lines='warn')\n"
     ]
    },
    {
     "name": "stdout",
     "output_type": "stream",
     "text": [
      "/Users/darionguan/Desktop/SAS Project 1/by_date/itcont_2020_20200516_20200603.txt\n"
     ]
    },
    {
     "name": "stderr",
     "output_type": "stream",
     "text": [
      "/var/folders/k1/z3v9vvcx2zj8knzj63hcxqh40000gn/T/ipykernel_92657/3673036561.py:33: DtypeWarning: Columns (10,18) have mixed types. Specify dtype option on import or set low_memory=False.\n",
      "  itcont_df = pd.read_csv(my_dir + filename, header=None, sep='|', on_bad_lines='warn')\n"
     ]
    },
    {
     "name": "stdout",
     "output_type": "stream",
     "text": [
      "/Users/darionguan/Desktop/SAS Project 1/by_date/itcont_2020_20201117_20201122.txt\n"
     ]
    },
    {
     "name": "stderr",
     "output_type": "stream",
     "text": [
      "/var/folders/k1/z3v9vvcx2zj8knzj63hcxqh40000gn/T/ipykernel_92657/3673036561.py:33: DtypeWarning: Columns (10,18) have mixed types. Specify dtype option on import or set low_memory=False.\n",
      "  itcont_df = pd.read_csv(my_dir + filename, header=None, sep='|', on_bad_lines='warn')\n"
     ]
    },
    {
     "name": "stdout",
     "output_type": "stream",
     "text": [
      "/Users/darionguan/Desktop/SAS Project 1/by_date/itcont_2020_20200906_20200912.txt\n"
     ]
    },
    {
     "name": "stderr",
     "output_type": "stream",
     "text": [
      "/var/folders/k1/z3v9vvcx2zj8knzj63hcxqh40000gn/T/ipykernel_92657/3673036561.py:33: DtypeWarning: Columns (10,18) have mixed types. Specify dtype option on import or set low_memory=False.\n",
      "  itcont_df = pd.read_csv(my_dir + filename, header=None, sep='|', on_bad_lines='warn')\n"
     ]
    },
    {
     "name": "stdout",
     "output_type": "stream",
     "text": [
      "/Users/darionguan/Desktop/SAS Project 1/by_date/itcont_2020_19300929_20190425.txt\n"
     ]
    },
    {
     "name": "stderr",
     "output_type": "stream",
     "text": [
      "/var/folders/k1/z3v9vvcx2zj8knzj63hcxqh40000gn/T/ipykernel_92657/3673036561.py:33: DtypeWarning: Columns (3,10,18) have mixed types. Specify dtype option on import or set low_memory=False.\n",
      "  itcont_df = pd.read_csv(my_dir + filename, header=None, sep='|', on_bad_lines='warn')\n"
     ]
    },
    {
     "name": "stdout",
     "output_type": "stream",
     "text": [
      "/Users/darionguan/Desktop/SAS Project 1/by_date/itcont_2020_20200330_20200425.txt\n"
     ]
    },
    {
     "name": "stderr",
     "output_type": "stream",
     "text": [
      "/var/folders/k1/z3v9vvcx2zj8knzj63hcxqh40000gn/T/ipykernel_92657/3673036561.py:33: DtypeWarning: Columns (10,18) have mixed types. Specify dtype option on import or set low_memory=False.\n",
      "  itcont_df = pd.read_csv(my_dir + filename, header=None, sep='|', on_bad_lines='warn')\n"
     ]
    },
    {
     "name": "stdout",
     "output_type": "stream",
     "text": [
      "/Users/darionguan/Desktop/SAS Project 1/by_date/itcont_2020_20201031_20201101.txt\n"
     ]
    },
    {
     "name": "stderr",
     "output_type": "stream",
     "text": [
      "b'Skipping line 1117139: expected 21 fields, saw 26\\n'\n",
      "/var/folders/k1/z3v9vvcx2zj8knzj63hcxqh40000gn/T/ipykernel_92657/3673036561.py:33: DtypeWarning: Columns (10,18) have mixed types. Specify dtype option on import or set low_memory=False.\n",
      "  itcont_df = pd.read_csv(my_dir + filename, header=None, sep='|', on_bad_lines='warn')\n"
     ]
    },
    {
     "name": "stdout",
     "output_type": "stream",
     "text": [
      "/Users/darionguan/Desktop/SAS Project 1/by_date/itcont_2020_20200831_20200905.txt\n"
     ]
    },
    {
     "name": "stderr",
     "output_type": "stream",
     "text": [
      "b'Skipping line 1720771: expected 21 fields, saw 26\\n'\n",
      "/var/folders/k1/z3v9vvcx2zj8knzj63hcxqh40000gn/T/ipykernel_92657/3673036561.py:33: DtypeWarning: Columns (10,18) have mixed types. Specify dtype option on import or set low_memory=False.\n",
      "  itcont_df = pd.read_csv(my_dir + filename, header=None, sep='|', on_bad_lines='warn')\n"
     ]
    },
    {
     "name": "stdout",
     "output_type": "stream",
     "text": [
      "/Users/darionguan/Desktop/SAS Project 1/by_date/itcont_2020_20200712_20200723.txt\n"
     ]
    },
    {
     "name": "stderr",
     "output_type": "stream",
     "text": [
      "/var/folders/k1/z3v9vvcx2zj8knzj63hcxqh40000gn/T/ipykernel_92657/3673036561.py:33: DtypeWarning: Columns (10,18) have mixed types. Specify dtype option on import or set low_memory=False.\n",
      "  itcont_df = pd.read_csv(my_dir + filename, header=None, sep='|', on_bad_lines='warn')\n"
     ]
    }
   ],
   "source": [
    "# Make an empty dataframe, trump_df with same columns as individual contributions files\n",
    "dtypes = np.dtype(\n",
    "    [\n",
    "        ('CMTE_ID', object),\n",
    "        (\"AMNDT_IND\", object),\n",
    "        (\"RPT_TP\", object),\n",
    "        (\"TRANSACTION_PGI\", object),\n",
    "        (\"IMAGE_NUM\", int),\n",
    "        (\"TRANSACTION_TP\", object),\n",
    "        (\"ENTITY_TP\", object),\n",
    "        (\"NAME\", object),\n",
    "        (\"CITY\", object),\n",
    "        (\"STATE\", object),\n",
    "        (\"ZIP_CODE\", object),\n",
    "        (\"EMPLOYER\", object),\n",
    "        (\"OCCUPATION\", object),\n",
    "        (\"TRANSACTION_DT\", int),\n",
    "        (\"TRANSACTION_AMT\", int),\n",
    "        (\"OTHER_ID\", object),\n",
    "        (\"TRAN_ID\", object),\n",
    "        (\"FILE_NUM\", int),\n",
    "        (\"MEMO_CD\", object),\n",
    "        (\"MEMO_TEXT\", object),\n",
    "        (\"SUB_ID\", int)\n",
    "    ]\n",
    ")\n",
    "trump_df = pd.DataFrame(np.empty(0, dtype=dtypes))\n",
    "\n",
    "# Directory path\n",
    "my_dir = '/Users/darionguan/Desktop/Presidential Prediction/by_date/'\n",
    "# For file in directory\n",
    "for filename in os.listdir(my_dir):\n",
    "    # Create exception for 'invalid_dates.txt'\n",
    "    if filename.endswith('.txt') is True and filename.endswith('invalid_dates.txt') is False:\n",
    "        # Set itcontdf with pd.read_csv() but skip lines that have more than 21 columns\n",
    "        itcont_df = pd.read_csv(my_dir + filename, header=None, sep='|', on_bad_lines='warn')\n",
    "        # Rename columns\n",
    "        itcont_df.rename(columns = {itcont_df.columns[0]: 'CMTE_ID', \n",
    "                                    itcont_df.columns[1]: 'AMNDT_IND', \n",
    "                                    itcont_df.columns[2]: 'RPT_TP', \n",
    "                                    itcont_df.columns[3]: 'TRANSACTION_PGI', \n",
    "                                    itcont_df.columns[4]: 'IMAGE_NUM', \n",
    "                                    itcont_df.columns[5]: 'TRANSACTION_TP', \n",
    "                                    itcont_df.columns[6]: 'ENTITY_TP', \n",
    "                                    itcont_df.columns[7]: 'NAME', \n",
    "                                    itcont_df.columns[8]: 'CITY', \n",
    "                                    itcont_df.columns[9]: 'STATE', \n",
    "                                    itcont_df.columns[10]: 'ZIP_CODE', \n",
    "                                    itcont_df.columns[11]: 'EMPLOYER', \n",
    "                                    itcont_df.columns[12]: 'OCCUPATION', \n",
    "                                    itcont_df.columns[13]: 'TRANSACTION_DT', \n",
    "                                    itcont_df.columns[14]: 'TRANSACTION_AMT', \n",
    "                                    itcont_df.columns[15]: 'OTHER_ID', \n",
    "                                    itcont_df.columns[16]: 'TRAN_ID', \n",
    "                                    itcont_df.columns[17]: 'FILE_NUM', \n",
    "                                    itcont_df.columns[18]: 'MEMO_CD', \n",
    "                                    itcont_df.columns[19]: 'MEMO_TEXT', \n",
    "                                    itcont_df.columns[20]: 'SUB_ID'},inplace=True)\n",
    "        # working_df = rows of it_contdf where CMTE_ID is in trump_arr\n",
    "        working_df = itcont_df[itcont_df['CMTE_ID'].isin(trump_arr)]\n",
    "        # Concatenate to trump_df\n",
    "        trump_df = pd.concat([trump_df, working_df], ignore_index=True)\n",
    "# Set as csv\n",
    "trump_df.to_csv('trump.csv', index=False)"
   ]
  }
 ],
 "metadata": {
  "kernelspec": {
   "display_name": "Python 3 (ipykernel)",
   "language": "python",
   "name": "python3"
  },
  "language_info": {
   "codemirror_mode": {
    "name": "ipython",
    "version": 3
   },
   "file_extension": ".py",
   "mimetype": "text/x-python",
   "name": "python",
   "nbconvert_exporter": "python",
   "pygments_lexer": "ipython3",
   "version": "3.9.13"
  }
 },
 "nbformat": 4,
 "nbformat_minor": 5
}
